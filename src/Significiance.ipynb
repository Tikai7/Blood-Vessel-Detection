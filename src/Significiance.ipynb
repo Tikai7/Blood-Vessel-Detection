{
 "cells": [
  {
   "cell_type": "markdown",
   "metadata": {},
   "source": [
    "## Imports"
   ]
  },
  {
   "cell_type": "code",
   "execution_count": 1,
   "metadata": {},
   "outputs": [],
   "source": [
    "import torch\n",
    "from scipy.stats import mannwhitneyu\n",
    "import numpy as np"
   ]
  },
  {
   "cell_type": "markdown",
   "metadata": {},
   "source": [
    "## Functions"
   ]
  },
  {
   "cell_type": "code",
   "execution_count": 2,
   "metadata": {},
   "outputs": [],
   "source": [
    "def calculate_f1score(precision, recall):\n",
    "    precision = np.array(precision)\n",
    "    recall = np.array(recall)\n",
    "    return 2 * (precision * recall) / (precision + recall)\n",
    "\n",
    "def get_metrics(model):\n",
    "    precision = model[\"validation\"][\"precision\"]\n",
    "    recall = model[\"validation\"][\"recall\"]\n",
    "    f1_score = calculate_f1score(precision=precision, recall=recall)\n",
    "    return precision, recall, f1_score\n",
    "\n",
    "def test_mannnwhitneyu(metric_model1, metric_model2, tested=\"métriques\"):\n",
    "    # Effectuer le test de Mann-Whitney\n",
    "    stat, p_value = mannwhitneyu(metric_model1, metric_model2)\n",
    "\n",
    "    print(\"Statistique U:\", stat, \"Valeur p:\", p_value)\n",
    "    if p_value < 0.05:\n",
    "        print(f\"Les différences de {tested} sont statistiquement significatives.\")\n",
    "    else:\n",
    "        print(f\"Aucune différence significative de {tested} détectée.\")"
   ]
  },
  {
   "cell_type": "markdown",
   "metadata": {},
   "source": [
    "## Metrics"
   ]
  },
  {
   "cell_type": "code",
   "execution_count": 3,
   "metadata": {},
   "outputs": [],
   "source": [
    "model_with_focal_dice = torch.load(\"../res/model_metrics/model_with_focal_dice/model_ENB3_FOCAL_DICE_balanced_augmented_3D\")\n",
    "model_with_focal_dice_MIT = torch.load(\"../res/model_metrics/model_with_focal_dice_MIT/model_MITB4_FOCAL_DICE_balanced_augmented_3D\")\n",
    "model_with_bce_dice_50 = torch.load(\"../res/model_metrics/model_with_bce_dice_50/model_ENB3_BCE_DICE_balanced_augmented_3D\")\n",
    "model_with_bce_dice_b32 = torch.load(\"../res/model_metrics/model_with_bce_dice_b32/model_ENB3_BCE_DICE_balanced_augmented_3D\")\n",
    "\n",
    "precision, recall, f1_score = get_metrics(model_with_focal_dice)\n",
    "precision_MIT, recall_MIT, f1_score_MIT = get_metrics(model_with_focal_dice_MIT)\n",
    "precision_bce_dice_50, recall_bce_dice_50, f1_score_bce_dice_50 = get_metrics(model_with_bce_dice_50)\n",
    "precision_bce_dice_b32, recall_bce_dice_b32, f1_score_bce_dice_b32 = get_metrics(model_with_bce_dice_b32)"
   ]
  },
  {
   "cell_type": "markdown",
   "metadata": {},
   "source": [
    "## Significiance Test"
   ]
  },
  {
   "cell_type": "code",
   "execution_count": 17,
   "metadata": {},
   "outputs": [
    {
     "name": "stdout",
     "output_type": "stream",
     "text": [
      "Statistique U: 1120.0 Valeur p: 0.3719912424570482\n",
      "Aucune différence significative de précision détectée.\n",
      "Statistique U: 885.0 Valeur p: 0.011977811890149424\n",
      "Les différences de recall sont statistiquement significatives.\n",
      "Statistique U: 743.0 Valeur p: 0.0004799214751372957\n",
      "Les différences de F1 score sont statistiquement significatives.\n"
     ]
    }
   ],
   "source": [
    "test_mannnwhitneyu(precision, precision_MIT, tested=\"précision\")\n",
    "test_mannnwhitneyu(recall, recall_MIT, tested=\"recall\")\n",
    "test_mannnwhitneyu(f1_score, f1_score_MIT, tested=\"F1 score\")"
   ]
  },
  {
   "cell_type": "code",
   "execution_count": 4,
   "metadata": {},
   "outputs": [
    {
     "name": "stdout",
     "output_type": "stream",
     "text": [
      "Statistique U: 1090.0 Valeur p: 0.27152201679090304\n",
      "Aucune différence significative de précision détectée.\n",
      "Statistique U: 1518.0 Valeur p: 0.06516903177439388\n",
      "Aucune différence significative de recall détectée.\n",
      "Statistique U: 1279.0 Valeur p: 0.8442392855727232\n",
      "Aucune différence significative de F1 score détectée.\n"
     ]
    }
   ],
   "source": [
    "test_mannnwhitneyu(precision_bce_dice_b32, precision_bce_dice_50, tested=\"précision\")\n",
    "test_mannnwhitneyu(recall_bce_dice_b32, recall_bce_dice_50, tested=\"recall\")\n",
    "test_mannnwhitneyu(f1_score_bce_dice_b32, f1_score_bce_dice_50, tested=\"F1 score\")"
   ]
  }
 ],
 "metadata": {
  "kernelspec": {
   "display_name": "Python 3",
   "language": "python",
   "name": "python3"
  },
  "language_info": {
   "codemirror_mode": {
    "name": "ipython",
    "version": 3
   },
   "file_extension": ".py",
   "mimetype": "text/x-python",
   "name": "python",
   "nbconvert_exporter": "python",
   "pygments_lexer": "ipython3",
   "version": "3.10.10"
  }
 },
 "nbformat": 4,
 "nbformat_minor": 2
}
