{
 "cells": [
  {
   "cell_type": "markdown",
   "metadata": {},
   "source": [
    "### Imports"
   ]
  },
  {
   "cell_type": "code",
   "execution_count": 1,
   "metadata": {},
   "outputs": [],
   "source": [
    "import torch\n",
    "from torch.utils.data import DataLoader\n",
    "from torch.utils.data import random_split\n",
    "from Model.DataLoader import DataLoaderManager\n",
    "from Model.Train import Trainer\n",
    "from Model.Loss import Loss\n",
    "import segmentation_models_pytorch as smp"
   ]
  },
  {
   "cell_type": "markdown",
   "metadata": {},
   "source": [
    "## Constants"
   ]
  },
  {
   "cell_type": "code",
   "execution_count": null,
   "metadata": {},
   "outputs": [],
   "source": [
    "epochs = 100\n",
    "image_size = 224\n",
    "num_classes = 1\n",
    "learning_rate = 1e-4\n",
    "train_size = 0.7\n",
    "test_size = 0.15\n",
    "batch_size = 16\n",
    "device = torch.device('cuda' if torch.cuda.is_available() else 'cpu')"
   ]
  },
  {
   "cell_type": "markdown",
   "metadata": {},
   "source": [
    "## Data loading"
   ]
  },
  {
   "cell_type": "code",
   "execution_count": null,
   "metadata": {},
   "outputs": [],
   "source": [
    "dataset = DataLoaderManager(root_dir=\"patches\",kidney_dir=False, data_augmentation=True, shape=(image_size,image_size))\n",
    "\n",
    "train_size = int(train_size * len(dataset))\n",
    "test_size =  int(test_size * len(dataset))\n",
    "val_size = len(dataset) - train_size - test_size\n",
    "\n",
    "train_set, val_set, test_set = random_split(dataset, [train_size, val_size, test_size])\n",
    "\n",
    "train_loader = DataLoader(train_set, batch_size=batch_size, shuffle=True)\n",
    "val_loader = DataLoader(val_set, batch_size=batch_size, shuffle=True)\n",
    "test_loader = DataLoader(test_set, batch_size=batch_size, shuffle=True)\n",
    "\n",
    "dataset.show_data(train_loader)\n",
    "dataset.show_data(val_loader)\n",
    "dataset.show_data(test_loader) \n",
    "\n",
    "print(f\"Train size : {len(train_loader)}\")\n",
    "print(f\"Validation size : {len(val_loader)}\")\n",
    "print(f\"Test size : {len(test_loader)}\")"
   ]
  },
  {
   "cell_type": "markdown",
   "metadata": {},
   "source": [
    "## Model Training\n",
    "- Encoder can be one of : \n",
    "    - 'vgg16', 'vgg19', \n",
    "    - 'resnet34', 'resnet50', 'resnet101', 'resnet152', 'resnext50_32x4d', 'resnext101_32x8d',\n",
    "    - 'efficientnet-b3'\n"
   ]
  },
  {
   "cell_type": "code",
   "execution_count": null,
   "metadata": {},
   "outputs": [],
   "source": [
    "encoder_name = 'efficientnet-b3'\n",
    "model = smp.Unet(encoder_name=encoder_name, encoder_weights='imagenet', classes=num_classes, in_channels=3)\n",
    "model = model.to(device)\n",
    "optimizer = torch.optim.AdamW\n",
    "loss = Loss.combined_loss\n",
    "trainer = Trainer()\n",
    "pos_weight = trainer.calculate_weights(train_loader)\n",
    "print(f\"Positive weights : {pos_weight}\")\n",
    "train_loss, val_loss, precision, recall, val_p, val_r = trainer.set_model(model)\\\n",
    "    .set_loader(train_loader, val_loader, test_loader)\\\n",
    "    .set_loss_fn(loss)\\\n",
    "    .set_optimizer(optimizer)\\\n",
    "    .fit(learning_rate, epochs, 1/pos_weight)\n",
    "\n",
    "torch.save(model.state_dict(), \"params/local_model_EN_b3_BD_adamW_weight_augmented_3D_3C_100epochs\")"
   ]
  },
  {
   "cell_type": "markdown",
   "metadata": {},
   "source": [
    "## Plotting results"
   ]
  },
  {
   "cell_type": "code",
   "execution_count": null,
   "metadata": {},
   "outputs": [],
   "source": [
    "trainer.plot_loss(train_loss, val_loss)\n",
    "trainer.plot_precision_recall(precision, recall, val_p, val_r)\n",
    "trainer.evaluate()"
   ]
  }
 ],
 "metadata": {
  "kernelspec": {
   "display_name": "Python 3",
   "language": "python",
   "name": "python3"
  },
  "language_info": {
   "codemirror_mode": {
    "name": "ipython",
    "version": 3
   },
   "file_extension": ".py",
   "mimetype": "text/x-python",
   "name": "python",
   "nbconvert_exporter": "python",
   "pygments_lexer": "ipython3",
   "version": "3.10.10"
  }
 },
 "nbformat": 4,
 "nbformat_minor": 2
}
